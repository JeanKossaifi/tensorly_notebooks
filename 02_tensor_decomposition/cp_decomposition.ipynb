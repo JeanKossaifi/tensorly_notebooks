{
 "cells": [
  {
   "cell_type": "code",
   "execution_count": 1,
   "metadata": {},
   "outputs": [],
   "source": [
    "import tensorly as tl\n",
    "import numpy as np"
   ]
  },
  {
   "cell_type": "markdown",
   "metadata": {},
   "source": [
    "One of the most great features of tensors is that they can be represented compactly in decomposed form and we have powerful methods with guarantees to obtain these decomposition."
   ]
  },
  {
   "cell_type": "markdown",
   "metadata": {},
   "source": [
    "# Kruskal form of a tensor\n",
    "\n",
    "Just as a matrix can be expressed as the sum of outer product of two vectors, a tensor of order 3 can be expressed as the sum of outer products of three vectors, and a tensor of order $N$ can be expressed as a sum of outer product of $N$ vectors. The number of terms in the sum is then called the Kruskal rank of the tensor.\n",
    "\n",
    "![kruskal_tensor](../images/triplets.png)\n",
    "\n",
    "\n",
    "## Obtain a Kruskal form: CP decomposition\n",
    "Given a tensor, an given a rank $R$, you can get the rank-$R$ Kruskal form  of the tensor by applying Canonical Polyadic Decomposition (also known as CP or PARAFAC).\n",
    "\n",
    "In TensorLy, it is as simple as a function call:"
   ]
  },
  {
   "cell_type": "code",
   "execution_count": 2,
   "metadata": {},
   "outputs": [],
   "source": [
    "from tensorly.decomposition import parafac\n",
    "X = tl.tensor(np.arange(24).reshape((3, 4, 2)), dtype=tl.float32)"
   ]
  },
  {
   "cell_type": "code",
   "execution_count": 3,
   "metadata": {},
   "outputs": [],
   "source": [
    "weights, factors = parafac(X, rank=2)"
   ]
  },
  {
   "cell_type": "markdown",
   "metadata": {},
   "source": [
    "The parafac function decomposed our tensor X into a sum (here, with 2 terms) of rank 1 tensors, that is, the outer product of vectors (here 3 vectors since we are decomposing a tensor of order 3):\n",
    "\n",
    "There is one matrix (or factor) per mode of the tensor. Each column of these factors corresponds to one of the vectors of the decomposition."
   ]
  },
  {
   "cell_type": "code",
   "execution_count": 4,
   "metadata": {},
   "outputs": [
    {
     "data": {
      "text/plain": [
       "3"
      ]
     },
     "execution_count": 4,
     "metadata": {},
     "output_type": "execute_result"
    }
   ],
   "source": [
    "len(factors)"
   ]
  },
  {
   "cell_type": "code",
   "execution_count": 5,
   "metadata": {},
   "outputs": [
    {
     "data": {
      "text/plain": [
       "[(3, 2), (4, 2), (2, 2)]"
      ]
     },
     "execution_count": 5,
     "metadata": {},
     "output_type": "execute_result"
    }
   ],
   "source": [
    "[f.shape for f in factors]"
   ]
  },
  {
   "cell_type": "markdown",
   "metadata": {},
   "source": [
    "Here, we have two terms in the sum, so we have two vectors for each mode.\n",
    "\n",
    "You can also reform the whole tensor from the Kruskal form:"
   ]
  },
  {
   "cell_type": "code",
   "execution_count": 6,
   "metadata": {},
   "outputs": [
    {
     "data": {
      "text/plain": [
       "(3, 4, 2)"
      ]
     },
     "execution_count": 6,
     "metadata": {},
     "output_type": "execute_result"
    }
   ],
   "source": [
    "full_tensor = tl.cp_to_tensor((weights, factors))\n",
    "full_tensor.shape"
   ]
  }
 ],
 "metadata": {
  "kernelspec": {
   "display_name": "Python 3",
   "language": "python",
   "name": "python3"
  },
  "language_info": {
   "codemirror_mode": {
    "name": "ipython",
    "version": 3
   },
   "file_extension": ".py",
   "mimetype": "text/x-python",
   "name": "python",
   "nbconvert_exporter": "python",
   "pygments_lexer": "ipython3",
   "version": "3.8.5"
  }
 },
 "nbformat": 4,
 "nbformat_minor": 4
}
