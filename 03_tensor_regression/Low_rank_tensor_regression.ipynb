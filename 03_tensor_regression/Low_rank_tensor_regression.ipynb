{
 "cells": [
  {
   "cell_type": "markdown",
   "metadata": {},
   "source": [
    "# Low-rank Tensor Regression"
   ]
  },
  {
   "cell_type": "markdown",
   "metadata": {},
   "source": [
    "Tensor regression is available in the module `tensorly.regression`.\n",
    "\n",
    "Given a series of $N$ tensor samples/observations, $\\tilde X_i, i={1, \\cdots, N}$, and corresponding labels $y_i, i={1, \\cdots, N}$, we want to find the weight tensor $\\tilde W$ such that, for each $i={1, \\cdots, N}$:\n",
    "\n",
    "$$\n",
    "   y_i = \\langle \\tilde X_i, \\tilde W \\rangle\n",
    "$$\n",
    "\n",
    "We additionally impose that $\\tilde W$ be a rank-r CP decomposition (Kruskal regression) or a rank $(r_1, \\cdots, r_N)$-Tucker decomposition (Tucker regression).\n",
    "\n",
    "TensorLy implements both types of tensor regression as scikit-learn-like estimators.\n",
    "\n",
    "For instance, Krusal regression is available through the $tensorly.regression.KruskalRegression$ object. This implements a fit method that takes as parameters $X$, the data tensor which first dimension is the number of samples, and $y$, the corresponding vector of labels.\n",
    "\n",
    "Given a set of testing samples, you can use the predict method to obtain the corresponding predictions from the model.\n",
    "\n"
   ]
  },
  {
   "cell_type": "code",
   "execution_count": 1,
   "metadata": {},
   "outputs": [],
   "source": [
    "import matplotlib.pyplot as plt\n",
    "from tensorly.base import tensor_to_vec, partial_tensor_to_vec\n",
    "from tensorly.datasets.synthetic import gen_image\n",
    "from tensorly.regression import CPRegressor\n",
    "import tensorly.backend as T\n",
    "import tensorly as tl\n",
    "\n",
    "#show figures in the notebook\n",
    "%matplotlib inline"
   ]
  },
  {
   "cell_type": "code",
   "execution_count": 2,
   "metadata": {},
   "outputs": [],
   "source": [
    "# Parameter of the experiment\n",
    "image_height = 25\n",
    "image_width = 25\n",
    "\n",
    "# fix the random seed for reproducibility\n",
    "rng = tl.check_random_state(1) \n",
    "\n",
    "# Generate a random tensor\n",
    "X = T.tensor(rng.normal(size=(1000, image_height, image_width), loc=0, scale=1))"
   ]
  },
  {
   "cell_type": "markdown",
   "metadata": {},
   "source": [
    "Generate the original image"
   ]
  },
  {
   "cell_type": "code",
   "execution_count": 3,
   "metadata": {},
   "outputs": [],
   "source": [
    "weight_img = gen_image(region='swiss', image_height=image_height, image_width=image_width)\n",
    "weight_img = T.tensor(weight_img)"
   ]
  },
  {
   "cell_type": "markdown",
   "metadata": {},
   "source": [
    "The true labels is obtained by taking the product between the true regression weights and the input tensors"
   ]
  },
  {
   "cell_type": "code",
   "execution_count": 4,
   "metadata": {},
   "outputs": [],
   "source": [
    "y = T.dot(partial_tensor_to_vec(X, skip_begin=1), tensor_to_vec(weight_img))"
   ]
  },
  {
   "cell_type": "markdown",
   "metadata": {},
   "source": [
    "## Let's view the true regression weight "
   ]
  },
  {
   "cell_type": "code",
   "execution_count": 5,
   "metadata": {},
   "outputs": [
    {
     "data": {
      "text/plain": [
       "Text(0.5, 1.0, 'True regression weights')"
      ]
     },
     "execution_count": 5,
     "metadata": {},
     "output_type": "execute_result"
    },
    {
     "data": {
      "image/png": "[encoded data removed]",
      "text/plain": [
       "<Figure size 432x288 with 1 Axes>"
      ]
     },
     "metadata": {
      "needs_background": "light"
     },
     "output_type": "display_data"
    }
   ],
   "source": [
    "fig = plt.figure()\n",
    "ax = fig.add_subplot(1, 1, 1)\n",
    "ax.imshow(T.to_numpy(weight_img), cmap=plt.cm.OrRd, interpolation='nearest')\n",
    "ax.set_axis_off()\n",
    "ax.set_title('True regression weights')"
   ]
  },
  {
   "cell_type": "markdown",
   "metadata": {},
   "source": [
    "## Tensor regression "
   ]
  },
  {
   "cell_type": "markdown",
   "metadata": {},
   "source": [
    "### Create a tensor Regressor estimator"
   ]
  },
  {
   "cell_type": "code",
   "execution_count": 6,
   "metadata": {},
   "outputs": [],
   "source": [
    "estimator = CPRegressor(weight_rank=2, tol=10e-7, n_iter_max=100, reg_W=1, verbose=0)"
   ]
  },
  {
   "cell_type": "markdown",
   "metadata": {},
   "source": [
    "### Fit the estimator to the data"
   ]
  },
  {
   "cell_type": "code",
   "execution_count": 7,
   "metadata": {},
   "outputs": [
    {
     "data": {
      "text/plain": [
       "<tensorly.regression.cp_regression.CPRegressor at 0x7f8d39c15e80>"
      ]
     },
     "execution_count": 7,
     "metadata": {},
     "output_type": "execute_result"
    }
   ],
   "source": [
    "estimator.fit(X, y)"
   ]
  },
  {
   "cell_type": "markdown",
   "metadata": {},
   "source": [
    "### Predict the labels given input tensors"
   ]
  },
  {
   "cell_type": "code",
   "execution_count": 8,
   "metadata": {},
   "outputs": [
    {
     "data": {
      "text/plain": [
       "array([ 1.25733698e+00, -2.82764357e+00, -2.06880054e+01, -4.52973146e+00,\n",
       "       -1.65390569e+01, -2.85602047e+01,  1.06871375e+01,  3.31603213e+01,\n",
       "       -3.91138731e+00, -2.81845061e+01,  1.32203644e+01, -4.02337480e+00,\n",
       "       -2.97070761e+00,  3.22711792e+01,  6.50033511e+00, -5.60007107e+00,\n",
       "        3.91175441e+00,  2.80381672e+01,  1.25563311e+01,  8.20932617e+00,\n",
       "       -2.29539318e+01,  1.14984252e+01,  1.32471886e+01,  1.09914640e+01,\n",
       "       -1.79590543e+01, -9.14120596e-03,  2.47594561e+01, -2.01632327e+01,\n",
       "        2.31481725e-02, -1.50853607e+01,  9.07255715e+00, -2.36972115e+01,\n",
       "       -6.78489509e+00, -1.25362816e+01, -5.01508949e+00, -7.85710223e+00,\n",
       "       -2.24760125e+01, -1.91820826e+01,  2.30171417e+01, -2.01226350e+01,\n",
       "       -1.98938483e+01,  3.66573262e+00,  7.82953683e+00,  5.58285027e+00,\n",
       "       -5.20960713e+00, -6.78431014e+00, -1.54119488e+01, -1.79192335e+01,\n",
       "        7.00906425e+00, -1.02106941e+01,  2.07327226e+01, -4.24881642e+00,\n",
       "        1.28831057e+01, -2.23910683e-01,  5.52863842e+00,  2.39347377e+01,\n",
       "        6.52192886e+00,  2.07795512e+01,  3.42487310e+01,  1.09039399e+01,\n",
       "       -2.33556317e+01, -1.82989338e+00,  1.04398170e+01, -2.00311205e+01,\n",
       "       -3.03870472e+00,  5.05690527e-01, -1.95571560e+01,  3.22358475e+00,\n",
       "        2.29445013e+01, -1.57803049e+01,  2.44194426e+01,  2.94758930e+01,\n",
       "       -1.56474948e+00, -1.05670156e+01, -1.25205364e+00,  1.36065933e+01,\n",
       "        9.18256483e+00,  1.17280547e+01,  2.97103577e+00, -2.72092882e+01,\n",
       "       -8.24328916e-01,  1.78740426e+01,  2.13400775e+01, -1.24233503e+01,\n",
       "       -1.64240463e+01,  1.12861389e+01,  2.12310959e+01, -2.37079242e+01,\n",
       "       -1.02699437e+00,  1.71541548e+01, -1.47828823e+01, -1.63511634e+01,\n",
       "        1.23704698e+01, -1.37324180e+01, -4.26198913e+00, -4.69580516e+00,\n",
       "       -2.18407376e+01, -1.26880641e+01,  6.76260929e+00, -6.73752899e+00,\n",
       "        8.36312497e+00, -4.95360592e+00, -8.89850496e+00, -1.35596744e+01,\n",
       "       -1.18631159e+01,  2.95043832e+00, -8.12761396e+00, -3.51096142e+00,\n",
       "        2.03859888e+00,  6.30180570e+00,  2.13465898e+01,  1.41973002e+00,\n",
       "        1.26145550e+01,  1.99687525e+01,  1.05600373e+01,  1.90185758e+01,\n",
       "        2.90815426e+00, -1.51528497e+01, -1.26878966e+01,  2.06064240e+00,\n",
       "        6.52715099e+00,  2.35230096e+01, -5.45932065e+00,  1.13763367e+01,\n",
       "       -4.28130264e+00,  1.08327280e+01, -5.28366192e+00, -1.68013827e+00,\n",
       "       -1.95006702e+01,  1.87429111e+01,  1.71118970e+00,  7.95823011e+00,\n",
       "        1.45586128e+01,  2.25567741e+01,  1.27902080e+01, -3.63960255e+00,\n",
       "       -2.08826403e+01,  4.13124147e+01,  8.96407784e+00, -6.67084345e+00,\n",
       "        1.90083914e+01, -2.20182727e+01,  4.19166839e+00, -3.08555571e+01,\n",
       "        1.96825554e+01,  1.39594566e+00, -6.02271828e+00,  5.22791208e+00,\n",
       "        2.63540973e+01,  2.51927970e+01, -1.75084902e+01,  3.15389284e-01,\n",
       "        1.11747343e+01, -4.24451767e+00, -5.36500346e+00,  3.49175111e+01,\n",
       "        1.32548457e+01,  2.07908024e+01,  3.52872956e+00,  1.12478995e+01,\n",
       "        2.66868444e+00,  6.77847326e+00,  1.14977597e-01, -8.71011276e+00,\n",
       "       -1.74314102e+01, -5.01550119e+00, -1.72742815e+01, -1.61418043e+00,\n",
       "        2.15461431e+01,  1.92207235e+01, -1.13925278e+01, -5.15926570e+00,\n",
       "       -2.26970472e+01,  1.36460161e+01,  1.70330711e+00, -6.06980716e+00,\n",
       "        7.56781090e+00, -3.09967185e+01, -3.36724039e+00, -1.39336703e+01,\n",
       "       -6.12882478e+00,  1.19663216e+00, -7.50696229e+00,  5.81441193e+00,\n",
       "       -2.35185559e+00, -1.87648383e+01, -1.79731155e+01,  8.55475451e+00,\n",
       "       -2.00971583e+01,  5.87981613e-01,  2.13496898e+01,  2.53220435e+01,\n",
       "        2.24103523e+00,  5.73666174e+00, -1.19980365e+01,  9.71880414e+00,\n",
       "        6.07394964e-01,  7.42676035e-02, -1.72002502e+01,  1.91921988e+01,\n",
       "       -1.33953850e+01,  1.00330450e+01, -1.93856585e+01,  1.55253063e+01,\n",
       "        1.65011173e+01, -1.58742710e+01,  1.26845495e+01, -2.18718789e+00,\n",
       "       -1.45967734e+01, -8.57109669e+00, -1.74350186e+01, -7.80456493e+00,\n",
       "       -1.69954143e+00, -1.26497101e+00,  5.87009325e+00, -3.44358237e+00,\n",
       "        7.63286261e+00,  6.01191382e+00,  5.22017545e+00,  2.82274269e+00,\n",
       "       -2.68702324e+01, -5.22994053e+00, -2.00876558e+01, -5.56109102e+00,\n",
       "       -1.70482176e+01, -1.35207669e+01, -1.15740019e+01, -8.74687685e+00,\n",
       "        6.87020717e+00, -7.53472706e+00,  2.14496379e+01,  3.27234880e+00,\n",
       "        7.20691089e+00,  1.42979868e+01,  7.33083110e+00, -2.30829236e+01,\n",
       "       -4.35803471e+00, -3.04987438e+01,  2.71358701e+00,  1.07720988e+01,\n",
       "        1.96307382e+00, -5.43314088e+00, -1.73984900e+01,  1.63190266e+01,\n",
       "       -1.15464114e+01, -3.10345362e-02, -8.25480665e+00, -2.42062961e+00,\n",
       "       -9.85830834e+00, -1.87078212e+01,  3.67252949e+01,  1.39428383e+01,\n",
       "       -2.87612164e+00,  2.87019660e+01, -1.15729242e+00, -2.31794384e+01,\n",
       "        5.04009437e+00, -1.16404144e+00, -2.79942094e+01,  8.77517628e+00,\n",
       "       -2.31775867e+01,  9.28308083e-01, -2.51704697e+01,  2.04624174e+01,\n",
       "        2.13086181e+01,  1.13210160e+01,  6.02595751e+00, -9.43522673e+00,\n",
       "        1.00737597e+01,  1.95472991e+01,  6.83622160e+00,  8.94760582e+00,\n",
       "       -7.71162506e+00, -6.62786710e+00,  7.46579693e+00,  9.44399417e+00,\n",
       "       -4.66524445e+00, -2.15814445e+01,  1.35543386e+01,  2.20553563e+01,\n",
       "        1.83867438e+00,  1.20389583e+01,  4.21227306e+01, -2.52250690e+01,\n",
       "       -2.73081910e+01,  6.01285618e+00,  1.88598039e+01,  7.17929223e+00,\n",
       "        3.69686925e+01,  5.58543882e+00,  1.37186122e+01,  1.05395452e+01,\n",
       "        1.02561813e+01, -4.43420840e+00, -3.08731235e+01,  2.77739831e+01,\n",
       "        1.39905864e+01,  1.60460787e+01, -2.28860820e+01, -1.84068014e+01,\n",
       "       -2.23028674e+01,  1.68681610e+01,  4.88567403e+00,  1.75512563e+00,\n",
       "        1.40445787e+01,  2.05574269e+01, -1.70214464e+01,  2.14496683e+01,\n",
       "       -4.96702132e+00, -1.18521778e+01,  5.68306061e-01,  8.32468722e+00,\n",
       "        1.15216814e+01, -7.53328962e+00,  1.32616933e+01,  1.25173902e+01,\n",
       "        1.07455418e+00,  2.56072067e+01,  2.49564197e+00, -8.42533324e+00,\n",
       "       -1.38427582e+01,  2.83801294e+01, -2.45972992e+01,  1.79482801e+01,\n",
       "       -4.08742102e+00,  3.05328061e-01,  1.15316630e+01,  5.42375809e+00,\n",
       "       -3.40928539e+00, -6.74823129e+00,  4.41352993e+00, -6.09568189e+00,\n",
       "       -7.81313454e+00, -1.58861633e+01, -8.48333162e+00, -5.92256233e+00,\n",
       "       -1.17631289e+01, -6.84285468e+00,  3.80190034e+00,  2.29484680e+01,\n",
       "        1.28336487e+01, -1.77713162e+01, -4.26112242e+00,  1.91933739e+01,\n",
       "        2.81338753e+00, -7.41752556e+00,  1.09128138e+01, -2.73033339e+00,\n",
       "       -2.20955014e+01,  1.33683169e+01, -9.22389905e+00, -2.29615832e+01,\n",
       "        7.53206606e+00,  1.28701643e+01, -1.15319808e+01, -3.45192577e+00,\n",
       "        7.39579686e+00, -1.40846490e+01,  6.67452103e+00, -1.77542632e+01,\n",
       "        1.53325259e+00,  1.22989881e+01, -7.29505007e+00, -3.13157661e+00,\n",
       "        2.92005136e+00, -5.72936658e+00,  1.65327421e+01, -2.64818683e+01,\n",
       "       -7.18441981e+00, -1.17307906e+00,  2.20319272e+01, -3.01784590e+01,\n",
       "        1.71046027e+01,  6.52641110e+00,  1.44767503e+00, -1.78341515e+00,\n",
       "        4.99548161e-01, -3.34127083e+00,  3.01578620e+01,  3.02096298e+01,\n",
       "       -1.76744775e+01, -1.18409935e+01, -2.27348928e+01, -1.16100529e+01,\n",
       "        8.38673758e+00,  4.72286549e+00, -1.39874428e+01, -1.99489057e+01,\n",
       "        4.35251933e+00, -7.60994234e+00, -8.58603902e+00, -6.42484695e+00,\n",
       "        1.66766418e+01,  7.69677861e+00, -1.78616445e+01, -4.64246199e+00,\n",
       "        2.11093412e+00, -1.35422359e+00,  1.42834989e+01, -2.30745393e+01,\n",
       "       -9.88489513e+00,  7.85177563e+00, -2.45041971e+00,  6.28357085e+00,\n",
       "       -1.93187254e+00, -3.59305035e+01, -1.34747258e+01, -2.57143140e+00,\n",
       "        1.69068641e+01,  6.45232043e+00, -1.15226775e+00,  9.01624428e+00,\n",
       "        1.66118157e+01, -1.49981160e+01,  5.13460576e+00,  4.27942287e-01,\n",
       "       -6.82606087e+00,  2.85101608e+00,  4.72795929e+00, -6.57460488e+00,\n",
       "        3.67892367e+00, -3.01185159e+01,  1.27991677e+01,  1.53158516e+01,\n",
       "        3.74103267e+00, -7.06409912e+00,  2.41410391e+00, -6.74158075e+00,\n",
       "       -3.10646220e+00, -1.10448313e+01,  3.29209239e+01,  6.29231985e+00,\n",
       "        1.14756273e+01,  7.21974507e+00, -1.06948859e+01, -5.84889880e+00,\n",
       "        1.18371558e+01, -8.05471360e+00,  2.13619588e+01, -1.41018398e+00,\n",
       "       -1.01557225e+01, -1.51935171e+01,  6.18574106e-01,  1.14599666e+00,\n",
       "       -5.18135615e+00,  1.98105689e+00,  1.33489425e+01,  2.76168297e+01,\n",
       "        1.37322759e+01, -3.35882599e+01,  5.84034040e+00,  9.67677370e+00,\n",
       "       -2.49120760e+01, -4.12091992e-01,  3.93160207e+01,  3.03197126e+00,\n",
       "       -7.65622479e+00,  2.22622968e+01, -4.91185940e+00,  5.45749514e+00,\n",
       "       -2.77059659e-01,  8.82072309e+00, -2.03860268e+01, -6.42187743e+00,\n",
       "       -2.56399860e+01,  6.10365529e+00, -7.18231901e+00,  6.39127220e+00,\n",
       "        2.18595968e+01,  1.90740058e+01, -6.04556664e+00, -2.75595359e+01,\n",
       "       -1.18203764e+01,  2.80249572e+01,  1.15011669e+01,  1.33467807e+01,\n",
       "        2.89644876e+01, -3.29746300e+00, -2.50211284e+01,  6.74058450e+00,\n",
       "        9.53749453e+00, -1.10012519e+00, -1.60662664e+01, -6.33102128e+00,\n",
       "       -2.42975557e+01,  3.42517571e+01,  2.60881690e+01,  1.80357246e+01,\n",
       "        4.67256904e+00, -8.58611842e+00,  1.30513811e+01, -9.96544855e+00,\n",
       "       -4.13391028e+00, -3.54481459e+01, -5.16043392e+00,  1.69151531e+00,\n",
       "       -1.60779849e+01,  1.54426559e+01, -2.73331925e+00, -8.50336353e+00,\n",
       "       -1.31335256e+01, -7.53886151e+00, -6.06284156e+00,  3.43255289e+00,\n",
       "       -6.32078789e+00, -6.00808035e+00, -2.90993254e+01,  1.44741306e+01,\n",
       "       -7.15710929e+00, -2.90821267e+01,  1.24731943e+01, -2.43623750e+01,\n",
       "        3.89990795e+00,  4.09880097e-01, -3.77651216e+01,  5.70519718e+00,\n",
       "       -3.67978085e+00,  1.66607192e+01,  2.76184538e+01,  2.86359953e+01,\n",
       "       -8.60450715e+00,  2.68227646e+00,  5.01778433e+00, -1.45942522e+01,\n",
       "        1.87784281e+01, -2.36680232e+01,  2.67796262e+00,  2.52090105e+01,\n",
       "        3.50430541e+01, -7.32936744e+00,  1.26187366e+01,  2.38551439e+01,\n",
       "        1.43361746e+01,  6.00998580e+00, -8.67042853e+00,  1.07846632e+01,\n",
       "        7.18931846e+00,  1.78440599e+01, -1.13110055e+01,  9.52618090e+00,\n",
       "        1.48614496e+01, -1.43823324e+01,  1.92402475e+01, -1.59251746e+01,\n",
       "       -1.66071608e+01, -9.62593378e+00,  1.59348364e+01,  1.75072242e+00,\n",
       "       -1.15123942e+01, -2.67132044e+01, -9.29181622e+00,  8.18172918e+00,\n",
       "        5.80273508e+00,  6.50009051e+00,  1.93992619e+00,  1.66974086e+01,\n",
       "       -3.10256976e+01,  4.54155280e+00, -2.34273067e+01,  1.68375815e+01,\n",
       "        1.55878440e+01, -3.43432886e+01, -7.38056223e+00,  2.34353644e+00,\n",
       "       -2.33669491e+01,  1.22236342e+00, -2.11184976e+01, -2.50970162e+01,\n",
       "        8.24677274e+00, -1.27105800e+01, -2.05887408e+01, -2.67329141e+01,\n",
       "        1.21384894e+01, -1.74903534e+01,  8.85284679e+00, -1.28282158e+01,\n",
       "       -1.09711159e+00, -9.50775318e+00,  2.10395322e-01, -1.12196018e+01,\n",
       "       -8.94065975e+00,  5.15078961e+00, -3.39262560e+00,  5.62093640e+01,\n",
       "        1.31328987e+01,  1.36043506e+01,  1.82651919e+01,  4.07926456e+01,\n",
       "       -3.03319136e+00, -1.48619977e+01,  3.73199656e-01, -2.44168189e+01,\n",
       "        1.17542891e+00, -1.26638623e+01, -6.36573337e+00,  1.23640607e+01,\n",
       "       -1.24656146e+01,  2.77832191e+01, -1.97243802e+00,  8.39557570e+00,\n",
       "        6.53209157e+00,  1.90580966e+01, -2.90110758e+01,  3.42514608e+00,\n",
       "        1.98395112e+01, -5.41045813e+00,  1.56774398e+01,  2.60957369e+01,\n",
       "        8.08333158e+00, -2.98980553e+00, -2.58209490e+01, -2.38492894e+01,\n",
       "        4.90263500e+00,  2.23522235e+01, -4.81971725e+00, -2.49932152e+01,\n",
       "        7.76383012e+00, -5.62381159e+00,  2.22349021e+01, -2.29404799e+01,\n",
       "        1.49127284e+01,  3.98971178e+00, -1.27484034e+01,  3.58986969e+01,\n",
       "        1.37279358e+01,  1.78692146e+01,  2.49057576e+01, -5.67857556e+00,\n",
       "       -2.64724296e+01, -1.09410879e+01, -7.49129994e+00, -2.19733916e+00,\n",
       "       -5.36444522e+00, -1.43057295e+01, -2.03354263e+01, -1.09592251e+01,\n",
       "        3.69065018e+01, -7.05055845e+00, -2.46691423e+01, -1.14075619e+00,\n",
       "       -6.50317782e+00, -3.79307274e+01,  1.67029351e+01, -1.13427938e+00,\n",
       "       -1.34922569e+01,  6.04618646e+00,  1.22597099e+01,  6.08347677e+00,\n",
       "       -1.66691013e-01, -5.24469235e-01, -2.36303564e+01, -3.57167612e+01,\n",
       "        6.32353729e+00, -1.50517671e+00, -2.31413617e-01,  1.15016804e+01,\n",
       "        1.78065873e+00, -9.64939401e+00, -2.15833093e+00,  2.11666557e+01,\n",
       "       -1.63532303e+00,  1.48323597e+01,  3.66120465e+00, -2.52880982e+01,\n",
       "        5.59963321e+00, -7.68017236e+00,  1.55655311e+01, -4.48409624e+01,\n",
       "        1.60507114e+01,  3.28470701e+01, -2.71692018e+01, -1.30699143e+01,\n",
       "       -1.32901836e+01,  2.02745168e+01, -3.08693109e+00, -7.86367297e+00,\n",
       "        9.72761936e+00,  1.29049490e+01,  2.66210814e+00,  3.49594733e+00,\n",
       "       -6.58460731e+00,  8.85496690e+00,  1.55385885e+01, -9.30915044e+00,\n",
       "        8.54750071e+00,  1.22875725e+01,  5.58928124e+00, -1.57060140e+01,\n",
       "       -1.76995427e+01, -1.34746936e+01, -1.47699964e+01, -1.01223310e+01,\n",
       "       -5.90921167e+00, -3.78875339e+00,  1.62059925e+01,  1.73643708e+00,\n",
       "        2.60037536e+00, -1.82592860e+01, -1.56600844e+01,  1.14992295e+01,\n",
       "        5.63759720e+00,  1.14413050e+01, -1.43823991e+01,  5.61151660e+00,\n",
       "        7.89522270e+00,  6.94333368e+00, -2.84083832e+01, -6.17161360e+00,\n",
       "        1.13781391e+01, -4.70240184e+00,  2.09388415e+01, -1.50812040e+01,\n",
       "        5.81450323e-01, -3.34626386e-01, -1.52746876e+01,  4.08279879e+00,\n",
       "        1.49536969e+01,  1.11125357e+01, -1.19045354e+01,  3.23594355e+01,\n",
       "       -3.88716904e+00, -1.12788397e+01,  2.42986467e+00,  1.00777842e+01,\n",
       "       -1.47024293e+00, -9.09075586e+00,  1.36608208e+01, -7.13043145e+00,\n",
       "        9.70411080e-01, -9.92856272e+00,  1.13582610e+01,  1.62342057e+01,\n",
       "        2.49120551e+00, -8.66910359e+00,  2.65315827e+01, -9.19761944e+00,\n",
       "       -7.32589903e+00,  2.05432847e+01, -1.78987998e+01,  1.85051396e+01,\n",
       "        1.22705250e+01, -8.15806765e+00,  4.73780567e+00, -7.26073772e+00,\n",
       "        1.55871897e+01,  8.93103049e+00, -2.53601475e+01,  2.19900576e+00,\n",
       "       -3.90877783e+01, -1.77829192e+00, -7.51578118e+00, -3.94163674e+01,\n",
       "        1.74858781e+00,  1.04512565e+01, -7.58650760e+00, -2.32111519e+01,\n",
       "       -6.97837795e+00, -1.42141413e+01, -2.82797928e+01, -5.04377770e+00,\n",
       "        1.68747188e+01, -1.19750598e+01, -3.68420030e+00,  1.04205054e+01,\n",
       "        2.69440737e+00,  2.69330364e+00,  3.31526118e+00,  5.25993338e+00,\n",
       "       -1.28188622e+01, -1.29403628e+01,  1.44253329e+01, -1.11565191e+01,\n",
       "       -1.21034067e+01,  1.95573884e+01, -1.95452901e+00,  1.00274522e+01,\n",
       "        2.57975656e+01,  2.59935029e+00,  1.10329238e+01, -7.75422111e+00,\n",
       "       -2.05603132e+01,  9.68653597e-01,  4.01083563e+00,  2.32226092e+01,\n",
       "        3.77208180e+00,  6.97406749e+00, -1.71337895e+01, -1.73605670e+01,\n",
       "       -8.32103274e+00, -1.40215811e+01,  2.93720618e+00,  1.02308326e+01,\n",
       "       -2.74374729e+00, -3.91982519e+00,  3.72726815e-01,  3.07046160e+01,\n",
       "       -2.66552724e+01,  7.10079575e+00,  2.76870682e+01, -1.63186597e+00,\n",
       "        1.89581028e+01, -1.44472300e+01,  1.32634693e+01, -6.44232706e+00,\n",
       "       -7.95750821e+00, -8.89440164e+00, -3.64676599e+00, -1.93734344e+01,\n",
       "        2.68910666e+00,  3.17303547e+01,  1.56792507e+01, -4.86231378e-02,\n",
       "        1.85691791e+01,  2.70574248e+00,  1.14692259e+01, -1.36280634e+01,\n",
       "        2.85022465e+01, -2.46481766e+01,  2.96603517e+00, -9.23077042e+00,\n",
       "       -3.77891284e+00, -1.94017617e+01,  8.41610093e+00, -1.01808696e+01,\n",
       "        3.92709698e+00, -1.52926365e+01, -1.52459604e+01, -2.39430735e+00,\n",
       "        1.17297921e+01, -2.62917017e+01,  3.05839222e+00, -1.05599527e+01,\n",
       "        2.52988319e+00, -1.30340475e+01, -4.03595215e+00,  1.75053977e+01,\n",
       "       -2.51789930e+01, -6.07299169e+00, -9.26095755e+00, -2.49637612e+01,\n",
       "        3.49289429e+00, -6.98198010e+00,  2.64716978e+00,  1.30680381e+01,\n",
       "       -3.45721274e+00,  1.22320091e+01,  8.94861024e+00,  7.55790126e+00,\n",
       "       -3.60462751e-02,  4.28517593e-01,  1.17990723e+01,  1.27472022e+01,\n",
       "        9.21544839e+00, -1.58017299e+01,  1.11941873e+01, -2.33572942e+00,\n",
       "       -8.21920641e+00,  4.69515956e+00, -3.10859790e+00,  1.60778558e+01,\n",
       "       -4.98517813e+00,  1.71664816e+01,  1.38911232e+01,  3.41651551e+01,\n",
       "        3.84215822e+00,  3.56145130e+00, -1.80572462e+00, -1.06886066e+01,\n",
       "        8.05971343e+00,  6.69921171e+00,  2.06297612e+00,  9.54201256e+00,\n",
       "       -8.22610594e+00, -3.97434216e+00,  2.59616979e+01, -1.30037074e+01,\n",
       "       -1.70356567e+01,  7.11855389e-01, -4.24306922e+00,  9.69807678e+00,\n",
       "        3.46074691e+00, -1.07444875e+01, -1.12538729e+01,  7.37745297e+00,\n",
       "        1.46811772e+01,  1.96087485e+00,  7.52882816e+00,  5.38827294e+00,\n",
       "        4.79370140e+00, -9.84975347e+00, -1.61394732e+01, -1.72355550e+00,\n",
       "       -2.31674134e+01, -2.47800871e+01,  9.43351498e+00, -9.99050793e-01,\n",
       "       -6.35990341e+00, -1.31031901e+00,  3.00455358e+01, -1.55942493e+01,\n",
       "        6.74778274e+00,  1.76482973e+01,  2.27561323e+01,  9.83000397e+00,\n",
       "        1.71812720e+01,  2.09985049e+00, -1.91234307e+01, -1.46679871e+01,\n",
       "       -1.35202057e+01,  2.75867603e+01,  7.51359772e+00, -3.50891624e+00,\n",
       "       -1.34247686e+00,  2.04632326e+01,  1.04446676e+01,  1.24537990e+01,\n",
       "        3.01163774e+00, -2.22614276e+01,  5.03130567e-01, -1.64691010e+01,\n",
       "        1.34040263e+01,  5.75365808e+00, -1.66662791e+01,  1.10745818e+01,\n",
       "        3.72879645e+01, -7.76519583e+00, -3.10322411e+01,  1.14277703e+01,\n",
       "       -2.85734436e+00,  4.61867701e+00, -7.55900761e-01, -3.96302783e+00,\n",
       "        4.40997237e+00,  1.95448504e+01,  1.20988572e+01,  3.47332322e+00,\n",
       "       -9.36973054e+00,  1.11130981e+01, -2.18492611e+01,  3.03459765e+01,\n",
       "        1.60271828e+01,  1.13878882e+01,  7.80441280e+00, -7.27741095e-01,\n",
       "       -5.96744720e+00,  2.71034283e+00,  1.66621735e-01, -2.46955578e+01,\n",
       "        3.42740648e+01, -1.50521692e+01,  1.45030401e+01, -7.23329761e+00,\n",
       "       -2.27346233e+01,  1.27616028e+00,  1.23854741e+01,  1.05156061e+01,\n",
       "        1.79341063e+01, -4.73680779e-01, -1.49235859e+01,  6.21494322e+00,\n",
       "       -4.47116296e+00, -2.07385032e+00,  8.35454881e+00, -2.17600711e+00,\n",
       "        1.37398151e+01, -6.78908015e+00, -1.10244615e+01, -3.61868961e+00,\n",
       "        1.52926882e+01, -2.59828682e+01, -1.19153415e+00, -2.37295739e+01,\n",
       "       -1.71092586e+01, -1.60680819e+01,  7.88959408e-01, -1.12050441e+01,\n",
       "        1.44822361e+01,  5.21350181e+00,  6.87131934e+00,  2.69882521e+01,\n",
       "       -3.98578512e+00, -7.41737845e+00,  2.20644019e-01,  9.07340461e+00,\n",
       "        2.16309614e+01, -3.47522229e+00,  1.33625386e+00, -2.99558574e+01,\n",
       "        2.99191460e+01,  1.45628002e+01,  5.50930792e+00, -1.01785267e+01,\n",
       "        9.68352926e+00, -1.84102026e+01,  6.22417375e+00,  1.16906739e+01,\n",
       "        3.76841115e+00,  6.58388608e+00, -3.67219286e+00,  3.83192379e+00])"
      ]
     },
     "execution_count": 8,
     "metadata": {},
     "output_type": "execute_result"
    }
   ],
   "source": [
    "estimator.predict(X)"
   ]
  },
  {
   "cell_type": "markdown",
   "metadata": {},
   "source": [
    "### Visualise the learned weights"
   ]
  },
  {
   "cell_type": "code",
   "execution_count": 9,
   "metadata": {},
   "outputs": [
    {
     "data": {
      "text/plain": [
       "Text(0.5, 1.0, 'Learned regression weights')"
      ]
     },
     "execution_count": 9,
     "metadata": {},
     "output_type": "execute_result"
    },
    {
     "data": {
      "image/png": "[encoded data removed]",
      "text/plain": [
       "<Figure size 432x288 with 1 Axes>"
      ]
     },
     "metadata": {
      "needs_background": "light"
     },
     "output_type": "display_data"
    }
   ],
   "source": [
    "fig = plt.figure()\n",
    "ax = fig.add_subplot(1, 1, 1)\n",
    "ax.imshow(T.to_numpy(estimator.weight_tensor_), cmap=plt.cm.OrRd, interpolation='nearest')\n",
    "ax.set_axis_off()\n",
    "ax.set_title('Learned regression weights')"
   ]
  },
  {
   "cell_type": "markdown",
   "metadata": {},
   "source": [
    "Wait! Weren't the learned weights supposed to be a low rank tensor in the Krusakl form!?\n",
    "\n",
    "They are! We simply plot the full tensor corresponding to the learned decomposition. You can access the decomposed form as follows:"
   ]
  },
  {
   "cell_type": "code",
   "execution_count": 10,
   "metadata": {},
   "outputs": [],
   "source": [
    "weights, factors = estimator.cp_weight_"
   ]
  }
 ],
 "metadata": {
  "kernelspec": {
   "display_name": "Python 3",
   "language": "python",
   "name": "python3"
  },
  "language_info": {
   "codemirror_mode": {
    "name": "ipython",
    "version": 3
   },
   "file_extension": ".py",
   "mimetype": "text/x-python",
   "name": "python",
   "nbconvert_exporter": "python",
   "pygments_lexer": "ipython3",
   "version": "3.8.5"
  }
 },
 "nbformat": 4,
 "nbformat_minor": 4
}
