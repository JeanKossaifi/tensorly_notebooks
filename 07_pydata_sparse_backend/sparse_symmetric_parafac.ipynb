{
 "cells": [
  {
   "cell_type": "code",
   "execution_count": 1,
   "metadata": {},
   "outputs": [],
   "source": [
    "import numpy as np\n",
    "import sparse\n",
    "import tensorly as tl"
   ]
  },
  {
   "cell_type": "markdown",
   "metadata": {},
   "source": [
    "In this notebook we will see how to perform a symmetric CP decomposition on sparse tensors using the symmetric robust tensor power iteration.\n",
    "\n",
    "Here, the input tensor is sparse, and so is the decomposition, so the factors for each mode are the same."
   ]
  },
  {
   "cell_type": "code",
   "execution_count": 2,
   "metadata": {},
   "outputs": [
    {
     "name": "stdout",
     "output_type": "stream",
     "text": [
      "<COO: shape=(100, 5), dtype=float64, nnz=150, fill_value=0.0>\n"
     ]
    }
   ],
   "source": [
    "size = 100\n",
    "rank = 5\n",
    "\n",
    "starting_factor = sparse.random(shape=(size, rank), density=0.3)\n",
    "print(starting_factor)\n",
    "\n",
    "weights = sparse.ones(rank)"
   ]
  },
  {
   "cell_type": "markdown",
   "metadata": {},
   "source": [
    "Now convert it to a tensor. As for the other sparse operations, it is very important to use `kruskal_to_tensor` from the sparse backend, as a fully dense version of the tensor would use several TB of memory."
   ]
  },
  {
   "cell_type": "code",
   "execution_count": 3,
   "metadata": {},
   "outputs": [
    {
     "data": {
      "text/html": [
       "<table><tbody><tr><th style=\"text-align: left\">Format</th><td style=\"text-align: left\">coo</td></tr><tr><th style=\"text-align: left\">Data Type</th><td style=\"text-align: left\">float64</td></tr><tr><th style=\"text-align: left\">Shape</th><td style=\"text-align: left\">(100, 100, 100)</td></tr><tr><th style=\"text-align: left\">nnz</th><td style=\"text-align: left\">144637</td></tr><tr><th style=\"text-align: left\">Density</th><td style=\"text-align: left\">0.144637</td></tr><tr><th style=\"text-align: left\">Read-only</th><td style=\"text-align: left\">True</td></tr><tr><th style=\"text-align: left\">Size</th><td style=\"text-align: left\">4.4M</td></tr><tr><th style=\"text-align: left\">Storage ratio</th><td style=\"text-align: left\">0.6</td></tr></tbody></table>"
      ],
      "text/plain": [
       "<COO: shape=(100, 100, 100), dtype=float64, nnz=144637, fill_value=0.0>"
      ]
     },
     "execution_count": 3,
     "metadata": {},
     "output_type": "execute_result"
    }
   ],
   "source": [
    "from tensorly.contrib.sparse.kruskal_tensor import kruskal_to_tensor\n",
    "tensor = kruskal_to_tensor((weights, [starting_factor]*3))\n",
    "tensor"
   ]
  },
  {
   "cell_type": "code",
   "execution_count": 4,
   "metadata": {},
   "outputs": [],
   "source": [
    "import time\n",
    "%load_ext memory_profiler"
   ]
  },
  {
   "cell_type": "markdown",
   "metadata": {},
   "source": [
    "We import the symmetric CP decomposition:"
   ]
  },
  {
   "cell_type": "code",
   "execution_count": 5,
   "metadata": {},
   "outputs": [],
   "source": [
    "from tensorly.contrib.sparse.decomposition import symmetric_parafac_power_iteration as parafac_sparse"
   ]
  },
  {
   "cell_type": "code",
   "execution_count": 6,
   "metadata": {},
   "outputs": [
    {
     "name": "stdout",
     "output_type": "stream",
     "text": [
      "Best score of 10: <COO: shape=(), dtype=float64, nnz=1, fill_value=0.0>\n",
      "Eingenvalue: <COO: shape=(), dtype=float64, nnz=1, fill_value=0.0>, explained: 0.6906871094733891\n",
      "Best score of 10: <COO: shape=(), dtype=float64, nnz=1, fill_value=0.0>\n",
      "Eingenvalue: <COO: shape=(), dtype=float64, nnz=1, fill_value=0.0>, explained: 0.7417982119451308\n",
      "Best score of 10: <COO: shape=(), dtype=float64, nnz=1, fill_value=0.0>\n",
      "Eingenvalue: <COO: shape=(), dtype=float64, nnz=1, fill_value=0.0>, explained: 0.7155941455024695\n",
      "Best score of 10: <COO: shape=(), dtype=float64, nnz=1, fill_value=0.0>\n",
      "Eingenvalue: <COO: shape=(), dtype=float64, nnz=1, fill_value=0.0>, explained: 0.7148363070325362\n",
      "Best score of 10: <COO: shape=(), dtype=float64, nnz=1, fill_value=0.0>\n",
      "Eingenvalue: <COO: shape=(), dtype=float64, nnz=1, fill_value=0.0>, explained: 0.44918586263031257\n",
      "Best score of 10: <COO: shape=(), dtype=float64, nnz=1, fill_value=0.0>\n",
      "Eingenvalue: <COO: shape=(), dtype=float64, nnz=1, fill_value=0.0>, explained: 0.830508325004876\n",
      "Best score of 10: <COO: shape=(), dtype=float64, nnz=1, fill_value=0.0>\n",
      "Eingenvalue: <COO: shape=(), dtype=float64, nnz=1, fill_value=0.0>, explained: 0.5455627640357362\n",
      "Best score of 10: <COO: shape=(), dtype=float64, nnz=1, fill_value=0.0>\n",
      "Eingenvalue: <COO: shape=(), dtype=float64, nnz=1, fill_value=0.0>, explained: 0.6540881233417458\n",
      "Best score of 10: <COO: shape=(), dtype=float64, nnz=1, fill_value=0.0>\n",
      "Eingenvalue: <COO: shape=(), dtype=float64, nnz=1, fill_value=0.0>, explained: 0.8180409128112012\n",
      "Best score of 10: <COO: shape=(), dtype=float64, nnz=1, fill_value=0.0>\n",
      "Eingenvalue: <COO: shape=(), dtype=float64, nnz=1, fill_value=0.0>, explained: 0.8929265990292278\n",
      "Took 4 mins 42 secs\n",
      "peak memory: 378.25 MiB, increment: 232.45 MiB\n"
     ]
    }
   ],
   "source": [
    "%%memit\n",
    "start_time = time.time()\n",
    "sparse_kruskal = parafac_sparse(tensor, rank=2*rank, verbose=True)\n",
    "end_time = time.time()\n",
    "total_time = end_time - start_time\n",
    "print('Took %d mins %d secs' % (divmod(total_time, 60)))"
   ]
  },
  {
   "cell_type": "markdown",
   "metadata": {},
   "source": [
    "Let's look at the result"
   ]
  },
  {
   "cell_type": "code",
   "execution_count": 7,
   "metadata": {},
   "outputs": [
    {
     "data": {
      "text/plain": [
       "(<COO: shape=(10,), dtype=float64, nnz=10, fill_value=0.0>,\n",
       " <COO: shape=(100, 10), dtype=float64, nnz=910, fill_value=0.0>)"
      ]
     },
     "execution_count": 7,
     "metadata": {},
     "output_type": "execute_result"
    }
   ],
   "source": [
    "sparse_kruskal"
   ]
  },
  {
   "cell_type": "code",
   "execution_count": 8,
   "metadata": {},
   "outputs": [],
   "source": [
    "weights_sparse = sparse_kruskal[0]"
   ]
  },
  {
   "cell_type": "code",
   "execution_count": 9,
   "metadata": {},
   "outputs": [],
   "source": [
    "factors_sparse = sparse_kruskal[1]"
   ]
  },
  {
   "cell_type": "markdown",
   "metadata": {},
   "source": [
    "Because the `factors_sparse` are sparse, we can reconstruct them into a tensor without using too much memory. In general, this will not be the case, but it is for our toy example. Let's do this to look at the absolute error for the decomposition. \n",
    "\n",
    "You can obtain the reconstruction as follows:"
   ]
  },
  {
   "cell_type": "code",
   "execution_count": 10,
   "metadata": {},
   "outputs": [],
   "source": [
    "rec = kruskal_to_tensor((weights_sparse, [factors_sparse]*3))"
   ]
  },
  {
   "cell_type": "code",
   "execution_count": 11,
   "metadata": {},
   "outputs": [
    {
     "data": {
      "text/plain": [
       "0.025484865905353097"
      ]
     },
     "execution_count": 11,
     "metadata": {},
     "output_type": "execute_result"
    }
   ],
   "source": [
    "tl.norm(tensor - rec)/tl.norm(tensor)"
   ]
  },
  {
   "cell_type": "code",
   "execution_count": null,
   "metadata": {},
   "outputs": [],
   "source": []
  }
 ],
 "metadata": {
  "kernelspec": {
   "display_name": "Python 3",
   "language": "python",
   "name": "python3"
  },
  "language_info": {
   "codemirror_mode": {
    "name": "ipython",
    "version": 3
   },
   "file_extension": ".py",
   "mimetype": "text/x-python",
   "name": "python",
   "nbconvert_exporter": "python",
   "pygments_lexer": "ipython3",
   "version": "3.8.3"
  }
 },
 "nbformat": 4,
 "nbformat_minor": 4
}
