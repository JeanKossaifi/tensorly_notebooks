{
 "cells": [
  {
   "cell_type": "markdown",
   "metadata": {},
   "source": [
    "# Sparse PARAFAC with missing values"
   ]
  },
  {
   "cell_type": "markdown",
   "metadata": {},
   "source": [
    "This notebook is based on [sparse_demo.ipynb](sparse_demo.ipynb#parafac). "
   ]
  },
  {
   "cell_type": "markdown",
   "metadata": {},
   "source": [
    "As before, we start with a random sparse tensor, constructed so that it has a tensor factorization of rank 5.\n",
    "\n",
    "Because masked PARAFAC can take longer to converge than non-masked PARAFAC, we will use a smaller tensor than in the other notebook."
   ]
  },
  {
   "cell_type": "code",
   "execution_count": 1,
   "metadata": {},
   "outputs": [],
   "source": [
    "shape = (1000, 1001, 1002)\n",
    "rank = 5\n",
    "\n",
    "import sparse\n",
    "starting_factors = [sparse.random((i, rank)) for i in shape]\n",
    "starting_factors\n",
    "starting_weights = sparse.ones(rank)"
   ]
  },
  {
   "cell_type": "code",
   "execution_count": 2,
   "metadata": {},
   "outputs": [
    {
     "data": {
      "text/html": [
       "<table><tbody><tr><th style=\"text-align: left\">Format</th><td style=\"text-align: left\">coo</td></tr><tr><th style=\"text-align: left\">Data Type</th><td style=\"text-align: left\">float64</td></tr><tr><th style=\"text-align: left\">Shape</th><td style=\"text-align: left\">(1000, 1001, 1002)</td></tr><tr><th style=\"text-align: left\">nnz</th><td style=\"text-align: left\">4675</td></tr><tr><th style=\"text-align: left\">Density</th><td style=\"text-align: left\">4.661007655019631e-06</td></tr><tr><th style=\"text-align: left\">Read-only</th><td style=\"text-align: left\">True</td></tr><tr><th style=\"text-align: left\">Size</th><td style=\"text-align: left\">146.1K</td></tr><tr><th style=\"text-align: left\">Storage ratio</th><td style=\"text-align: left\">0.0</td></tr></tbody></table>"
      ],
      "text/plain": [
       "<COO: shape=(1000, 1001, 1002), dtype=float64, nnz=4675, fill_value=0.0>"
      ]
     },
     "execution_count": 2,
     "metadata": {},
     "output_type": "execute_result"
    }
   ],
   "source": [
    "from tensorly.contrib.sparse.cp_tensor import cp_to_tensor\n",
    "tensor = cp_to_tensor((starting_weights, starting_factors))\n",
    "tensor"
   ]
  },
  {
   "cell_type": "markdown",
   "metadata": {},
   "source": [
    "Let's write a small convenience function to check the size of a tensor"
   ]
  },
  {
   "cell_type": "code",
   "execution_count": 3,
   "metadata": {},
   "outputs": [],
   "source": [
    "def format_size(size_bytes):\n",
    "    size = size_bytes\n",
    "    for unit in ['B', 'KiB', 'MiB', 'GiB', 'TiB']:\n",
    "        if not int(size/1024):\n",
    "            return f'{round(size)}.{unit}'\n",
    "        else:\n",
    "            size /= 1024"
   ]
  },
  {
   "cell_type": "code",
   "execution_count": 4,
   "metadata": {},
   "outputs": [
    {
     "data": {
      "text/plain": [
       "'146.KiB'"
      ]
     },
     "execution_count": 4,
     "metadata": {},
     "output_type": "execute_result"
    }
   ],
   "source": [
    "format_size(tensor.nbytes)                      # Actual memory usage"
   ]
  },
  {
   "cell_type": "code",
   "execution_count": 5,
   "metadata": {},
   "outputs": [
    {
     "data": {
      "text/plain": [
       "'7.GiB'"
      ]
     },
     "execution_count": 5,
     "metadata": {},
     "output_type": "execute_result"
    }
   ],
   "source": [
    "import numpy as np\n",
    "format_size(np.prod(tensor.shape) * 8)    # Memory usage if array was dense, in GB"
   ]
  },
  {
   "cell_type": "markdown",
   "metadata": {},
   "source": [
    "Now let's construct a random mask. A mask should be a boolean array of the same shape as the tensor, that is `False` (`0`) where there are missing values and `True` (`1`) where elements are not missing. \n",
    "\n",
    "It is important that the mask array have a fill value of `True`, that is, the zero entries of the original `tensor` should be considered non-missing. This is because internally the parafac algorithm generates dense arrays with as many elements as are False in the mask."
   ]
  },
  {
   "cell_type": "code",
   "execution_count": 6,
   "metadata": {},
   "outputs": [
    {
     "data": {
      "text/html": [
       "<table><tbody><tr><th style=\"text-align: left\">Format</th><td style=\"text-align: left\">coo</td></tr><tr><th style=\"text-align: left\">Data Type</th><td style=\"text-align: left\">bool</td></tr><tr><th style=\"text-align: left\">Shape</th><td style=\"text-align: left\">(1000, 1001, 1002)</td></tr><tr><th style=\"text-align: left\">nnz</th><td style=\"text-align: left\">1414</td></tr><tr><th style=\"text-align: left\">Density</th><td style=\"text-align: left\">1.409767876833745e-06</td></tr><tr><th style=\"text-align: left\">Read-only</th><td style=\"text-align: left\">True</td></tr><tr><th style=\"text-align: left\">Size</th><td style=\"text-align: left\">34.5K</td></tr><tr><th style=\"text-align: left\">Storage ratio</th><td style=\"text-align: left\">0.0</td></tr></tbody></table>"
      ],
      "text/plain": [
       "<COO: shape=(1000, 1001, 1002), dtype=bool, nnz=1414, fill_value=True>"
      ]
     },
     "execution_count": 6,
     "metadata": {},
     "output_type": "execute_result"
    }
   ],
   "source": [
    "import sparse\n",
    "missing_p = 0.3 # The fraction of nonzero entries from tensor which should be considered missing. The larger this number is, the harder it will be for PARAFAC to reconstruct the factors (meaning it may take more iterations to converge).\n",
    "\n",
    "mask = sparse.COO(coords=tensor.coords, data=np.random.choice([False, True], size=tensor.nnz, p=[missing_p, 1-missing_p]), shape=tensor.shape, fill_value=True)\n",
    "# This clears the True values from the mask.data\n",
    "mask = sparse.elemwise(lambda x: x, mask)\n",
    "mask"
   ]
  },
  {
   "cell_type": "markdown",
   "metadata": {},
   "source": [
    "Now we factor the tensor. In order to demonstrate that there are no tricks up our sleeve, we multiply the tensor by the mask to clear the \"missing\" values. The mask is passed in as a keyword argument to `parafac()`. \n",
    "\n",
    "Note that at this time, you have to use the `parafac` function from the sparse backend when using a sparse mask to avoid memory blowups."
   ]
  },
  {
   "cell_type": "code",
   "execution_count": 7,
   "metadata": {},
   "outputs": [],
   "source": [
    "import time\n",
    "%load_ext memory_profiler\n",
    "from tensorly.contrib.sparse.decomposition import parafac"
   ]
  },
  {
   "cell_type": "code",
   "execution_count": 8,
   "metadata": {},
   "outputs": [
    {
     "name": "stdout",
     "output_type": "stream",
     "text": [
      "reconstruction error=0.6476812069469653\n",
      "iteration 1, reconstruction error: 0.3149141332267099, decrease = 0.3327670737202554, unnormalized = 3.4417445973414806\n",
      "iteration 2, reconstruction error: 0.10859513912412147, decrease = 0.20631899410258844, unnormalized = 1.2399762718299734\n",
      "iteration 3, reconstruction error: 0.04297596063149542, decrease = 0.06561917849262605, unnormalized = 0.5005543219059398\n",
      "iteration 4, reconstruction error: 0.020878679522241667, decrease = 0.022097281109253752, unnormalized = 0.24529692252918345\n",
      "iteration 5, reconstruction error: 0.010889872512359632, decrease = 0.009988807009882035, unnormalized = 0.12844693809963953\n",
      "iteration 6, reconstruction error: 0.005971615533669401, decrease = 0.0049182569786902315, unnormalized = 0.07056765288707954\n",
      "iteration 7, reconstruction error: 0.0033970658618460692, decrease = 0.0025745496718233315, unnormalized = 0.04018083121088336\n",
      "iteration 8, reconstruction error: 0.001986732417403245, decrease = 0.0014103334444428243, unnormalized = 0.023510340444932117\n",
      "iteration 9, reconstruction error: 0.0011868491252363573, decrease = 0.0007998832921668876, unnormalized = 0.014048254810190747\n",
      "iteration 10, reconstruction error: 0.0007207705505839164, decrease = 0.00046607857465244095, unnormalized = 0.0085326031379195\n",
      "iteration 11, reconstruction error: 0.00044339838815669874, decrease = 0.00027737216242721763, unnormalized = 0.005249406710615301\n",
      "iteration 12, reconstruction error: 0.0002755719456650294, decrease = 0.00016782644249166933, unnormalized = 0.0032626368451488404\n",
      "iteration 13, reconstruction error: 0.0001726904537015143, decrease = 0.00010288149196351513, unnormalized = 0.0020446173378745294\n",
      "iteration 14, reconstruction error: 0.00010895915359789845, decrease = 6.373130010361584e-05, unnormalized = 0.0012900696260430649\n",
      "iteration 15, reconstruction error: 6.914313635223854e-05, decrease = 3.981601724565991e-05, unnormalized = 0.0008186567052397656\n",
      "iteration 16, reconstruction error: 4.409235485508811e-05, decrease = 2.5050781497150432e-05, unnormalized = 0.0005220570765927334\n",
      "iteration 17, reconstruction error: 2.823723935084931e-05, decrease = 1.58551155042388e-05, unnormalized = 0.000334332102129383\n",
      "iteration 18, reconstruction error: 1.815077302529048e-05, decrease = 1.0086466325558827e-05, unnormalized = 0.00021490754166392657\n",
      "iteration 19, reconstruction error: 1.1705466435511477e-05, decrease = 6.445306589779004e-06, unnormalized = 0.00013859439495499245\n",
      "iteration 20, reconstruction error: 7.5707160149029965e-06, decrease = 4.1347504206084804e-06, unnormalized = 8.963841077565339e-05\n",
      "iteration 21, reconstruction error: 4.909014038152972e-06, decrease = 2.6617019767500246e-06, unnormalized = 5.812348132468854e-05\n",
      "iteration 22, reconstruction error: 3.190299454811874e-06, decrease = 1.7187145833410979e-06, unnormalized = 3.7773644381572724e-05\n",
      "iteration 23, reconstruction error: 2.0774610763624554e-06, decrease = 1.1128383784494186e-06, unnormalized = 2.4597467224009368e-05\n",
      "iteration 24, reconstruction error: 1.3551735586702673e-06, decrease = 7.222875176921881e-07, unnormalized = 1.6045470258811316e-05\n",
      "iteration 25, reconstruction error: 8.853694040538797e-07, decrease = 4.6980415461638764e-07, unnormalized = 1.0482914952760022e-05\n",
      "iteration 26, reconstruction error: 5.792131486090257e-07, decrease = 3.061562554448539e-07, unnormalized = 6.857976276176847e-06\n",
      "iteration 27, reconstruction error: 3.793694449576752e-07, decrease = 1.9984370365135056e-07, unnormalized = 4.491794965758254e-06\n",
      "iteration 28, reconstruction error: 2.487312264420619e-07, decrease = 1.3063821851561326e-07, unnormalized = 2.9450175799203903e-06\n",
      "iteration 29, reconstruction error: 1.6322394728281602e-07, decrease = 8.55072791592459e-08, unnormalized = 1.9325977074362493e-06\n",
      "iteration 30, reconstruction error: 1.0719426415384661e-07, decrease = 5.60296831289694e-08, unnormalized = 1.269197281602067e-06\n",
      "iteration 31, reconstruction error: 7.044466490262092e-08, decrease = 3.6749599251225693e-08, unnormalized = 8.340761344402457e-07\n",
      "iteration 32, reconstruction error: 4.632058087878917e-08, decrease = 2.4124084023831747e-08, unnormalized = 5.484431102802752e-07\n",
      "iteration 33, reconstruction error: 3.047296539944029e-08, decrease = 1.584761547934888e-08, unnormalized = 3.6080480053170524e-07\n",
      "iteration 34, reconstruction error: 2.005581332597772e-08, decrease = 1.0417152073462574e-08, unnormalized = 2.3746404846505873e-07\n",
      "iteration 35, reconstruction error: 1.3204582305660035e-08, decrease = 6.851231020317684e-09, unnormalized = 1.56344373736724e-07\n",
      "PARAFAC converged after 35 iterations\n",
      "Took 0 mins 58 secs\n",
      "peak memory: 200.62 MiB, increment: 44.21 MiB\n"
     ]
    }
   ],
   "source": [
    "%%memit\n",
    "start_time = time.time()\n",
    "sparse_kruskal = parafac(tensor*mask, rank=rank, init='random', verbose=True, mask=mask)\n",
    "end_time = time.time()\n",
    "total_time = end_time - start_time\n",
    "print('Took %d mins %d secs' % (divmod(total_time, 60)))"
   ]
  },
  {
   "cell_type": "markdown",
   "metadata": {},
   "source": [
    "Let's look at one of the values that was masked out."
   ]
  },
  {
   "cell_type": "code",
   "execution_count": 9,
   "metadata": {},
   "outputs": [
    {
     "data": {
      "text/plain": [
       "array([10, 59, 99])"
      ]
     },
     "execution_count": 9,
     "metadata": {},
     "output_type": "execute_result"
    }
   ],
   "source": [
    "mask.coords.T[0]"
   ]
  },
  {
   "cell_type": "code",
   "execution_count": 10,
   "metadata": {},
   "outputs": [
    {
     "data": {
      "text/plain": [
       "False"
      ]
     },
     "execution_count": 10,
     "metadata": {},
     "output_type": "execute_result"
    }
   ],
   "source": [
    "mask[tuple(mask.coords.T[0])]"
   ]
  },
  {
   "cell_type": "code",
   "execution_count": 11,
   "metadata": {},
   "outputs": [
    {
     "data": {
      "text/plain": [
       "0.04802876721150133"
      ]
     },
     "execution_count": 11,
     "metadata": {},
     "output_type": "execute_result"
    }
   ],
   "source": [
    "orig_val = tensor[tuple(mask.coords.T[0])]\n",
    "orig_val"
   ]
  },
  {
   "cell_type": "markdown",
   "metadata": {},
   "source": [
    "See the [sparse_demo.ipynb](sparse_demo.ipynb) for how to calculate individual values from the factors."
   ]
  },
  {
   "cell_type": "code",
   "execution_count": 12,
   "metadata": {},
   "outputs": [
    {
     "data": {
      "text/plain": [
       "0.048028767210974516"
      ]
     },
     "execution_count": 12,
     "metadata": {},
     "output_type": "execute_result"
    }
   ],
   "source": [
    "weights, factors = sparse_kruskal\n",
    "computed_val = np.sum(np.prod(sparse.stack([factors[i][idx] for i, idx in enumerate(tuple(mask.coords.T[0]))], 0), 0))\n",
    "computed_val"
   ]
  },
  {
   "cell_type": "code",
   "execution_count": 13,
   "metadata": {},
   "outputs": [
    {
     "data": {
      "text/plain": [
       "5.268147029724446e-13"
      ]
     },
     "execution_count": 13,
     "metadata": {},
     "output_type": "execute_result"
    }
   ],
   "source": [
    "np.abs(orig_val - computed_val)"
   ]
  },
  {
   "cell_type": "markdown",
   "metadata": {},
   "source": [
    "Obviously this is a constructed example, where we know the unmasked tensor has an exact factorization. But this demonstrates that given a tensor with missing values, which we have reason to believe is represented by a rank $r$ tensor decomposition, we should expect this decomposition to do a decent job at reconstructing those missing values (this may not be the case if the missing values are not randomly distributed across the tensor as we have here). \n",
    "\n",
    "Let's compare this to a value that was not masked"
   ]
  },
  {
   "cell_type": "code",
   "execution_count": 14,
   "metadata": {},
   "outputs": [
    {
     "data": {
      "text/plain": [
       "True"
      ]
     },
     "execution_count": 14,
     "metadata": {},
     "output_type": "execute_result"
    }
   ],
   "source": [
    "for i in tensor.coords.T:\n",
    "    non_missing_coord = tuple(i)\n",
    "    if mask[non_missing_coord]:\n",
    "        break\n",
    "        \n",
    "mask[non_missing_coord]"
   ]
  },
  {
   "cell_type": "code",
   "execution_count": 15,
   "metadata": {},
   "outputs": [
    {
     "data": {
      "text/plain": [
       "0.002143451454775147"
      ]
     },
     "execution_count": 15,
     "metadata": {},
     "output_type": "execute_result"
    }
   ],
   "source": [
    "orig_val = tensor[non_missing_coord]\n",
    "orig_val"
   ]
  },
  {
   "cell_type": "code",
   "execution_count": 16,
   "metadata": {},
   "outputs": [
    {
     "data": {
      "text/plain": [
       "0.002143451454763028"
      ]
     },
     "execution_count": 16,
     "metadata": {},
     "output_type": "execute_result"
    }
   ],
   "source": [
    "computed_val = np.sum(np.prod(sparse.stack([factors[i][idx] for i, idx in enumerate(non_missing_coord)], 0), 0))\n",
    "computed_val"
   ]
  },
  {
   "cell_type": "code",
   "execution_count": 17,
   "metadata": {},
   "outputs": [
    {
     "data": {
      "text/plain": [
       "1.2119211884042969e-14"
      ]
     },
     "execution_count": 17,
     "metadata": {},
     "output_type": "execute_result"
    }
   ],
   "source": [
    "np.abs(orig_val - computed_val)"
   ]
  },
  {
   "cell_type": "markdown",
   "metadata": {},
   "source": [
    "As before, we should not in general try to recompose a sparse factorization unless we can represent it densely, but since this was constructed explicitly from sparse factors, we are able to do it (being careful to use the `cp_to_tensor` from the sparse backend)."
   ]
  },
  {
   "cell_type": "code",
   "execution_count": 18,
   "metadata": {},
   "outputs": [
    {
     "data": {
      "text/html": [
       "<table><tbody><tr><th style=\"text-align: left\">Format</th><td style=\"text-align: left\">coo</td></tr><tr><th style=\"text-align: left\">Data Type</th><td style=\"text-align: left\">float64</td></tr><tr><th style=\"text-align: left\">Shape</th><td style=\"text-align: left\">(1000, 1001, 1002)</td></tr><tr><th style=\"text-align: left\">nnz</th><td style=\"text-align: left\">4675</td></tr><tr><th style=\"text-align: left\">Density</th><td style=\"text-align: left\">4.661007655019631e-06</td></tr><tr><th style=\"text-align: left\">Read-only</th><td style=\"text-align: left\">True</td></tr><tr><th style=\"text-align: left\">Size</th><td style=\"text-align: left\">146.1K</td></tr><tr><th style=\"text-align: left\">Storage ratio</th><td style=\"text-align: left\">0.0</td></tr></tbody></table>"
      ],
      "text/plain": [
       "<COO: shape=(1000, 1001, 1002), dtype=float64, nnz=4675, fill_value=0.0>"
      ]
     },
     "execution_count": 18,
     "metadata": {},
     "output_type": "execute_result"
    }
   ],
   "source": [
    "expanded = cp_to_tensor((weights, factors))\n",
    "expanded"
   ]
  },
  {
   "cell_type": "markdown",
   "metadata": {},
   "source": [
    "Now let's look at the absolute error, both including and not including missing values."
   ]
  },
  {
   "cell_type": "code",
   "execution_count": 19,
   "metadata": {},
   "outputs": [
    {
     "data": {
      "text/plain": [
       "1.56344373736724e-07"
      ]
     },
     "execution_count": 19,
     "metadata": {},
     "output_type": "execute_result"
    }
   ],
   "source": [
    "from tensorly.contrib.sparse import norm\n",
    "norm((tensor - expanded)*mask) # Absolute error of the non-missing values"
   ]
  },
  {
   "cell_type": "code",
   "execution_count": 20,
   "metadata": {},
   "outputs": [
    {
     "data": {
      "text/plain": [
       "2.676220096895096e-07"
      ]
     },
     "execution_count": 20,
     "metadata": {},
     "output_type": "execute_result"
    }
   ],
   "source": [
    "norm(tensor - expanded) # Absolute error including missing values"
   ]
  }
 ],
 "metadata": {
  "kernelspec": {
   "display_name": "Python 3",
   "language": "python",
   "name": "python3"
  },
  "language_info": {
   "codemirror_mode": {
    "name": "ipython",
    "version": 3
   },
   "file_extension": ".py",
   "mimetype": "text/x-python",
   "name": "python",
   "nbconvert_exporter": "python",
   "pygments_lexer": "ipython3",
   "version": "3.8.5"
  }
 },
 "nbformat": 4,
 "nbformat_minor": 4
}
